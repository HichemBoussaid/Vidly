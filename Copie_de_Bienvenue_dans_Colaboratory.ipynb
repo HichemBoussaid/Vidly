{
  "cells": [
    {
      "cell_type": "markdown",
      "metadata": {
        "id": "view-in-github",
        "colab_type": "text"
      },
      "source": [
        "<a href=\"https://colab.research.google.com/github/HichemBoussaid/Vidly/blob/master/Copie_de_Bienvenue_dans_Colaboratory.ipynb\" target=\"_parent\"><img src=\"https://colab.research.google.com/assets/colab-badge.svg\" alt=\"Open In Colab\"/></a>"
      ]
    },
    {
      "cell_type": "code",
      "source": [
        "from google.colab import drive\n",
        "drive.mount('/content/drive')"
      ],
      "metadata": {
        "id": "KdXj4ZFp8ps6",
        "outputId": "c0f409cb-886f-45ca-c71d-04ad08ebaed8",
        "colab": {
          "base_uri": "https://localhost:8080/"
        }
      },
      "execution_count": null,
      "outputs": [
        {
          "output_type": "stream",
          "name": "stdout",
          "text": [
            "Drive already mounted at /content/drive; to attempt to forcibly remount, call drive.mount(\"/content/drive\", force_remount=True).\n"
          ]
        }
      ]
    },
    {
      "cell_type": "code",
      "source": [
        "!git clone https://github.com/Cadene/skip-thoughts.torch.git\n",
        "%cd skip-thoughts.torch\n",
        "%cd pytorch\n",
        "!python setup.py install "
      ],
      "metadata": {
        "colab": {
          "base_uri": "https://localhost:8080/"
        },
        "id": "QzPIvj2P-aWo",
        "outputId": "5add5db6-b108-487e-8743-17477bec468d"
      },
      "execution_count": null,
      "outputs": [
        {
          "output_type": "stream",
          "name": "stdout",
          "text": [
            "Cloning into 'skip-thoughts.torch'...\n",
            "remote: Enumerating objects: 224, done.\u001b[K\n",
            "remote: Total 224 (delta 0), reused 0 (delta 0), pack-reused 224\u001b[K\n",
            "Receiving objects: 100% (224/224), 71.24 KiB | 2.97 MiB/s, done.\n",
            "Resolving deltas: 100% (114/114), done.\n",
            "/content/skip-thoughts.torch\n",
            "/content/skip-thoughts.torch/pytorch\n",
            "/usr/local/lib/python3.7/dist-packages/setuptools/dist.py:700: UserWarning: Usage of dash-separated 'description-file' will not be supported in future versions. Please use the underscore name 'description_file' instead\n",
            "  % (opt, underscore_opt))\n",
            "running install\n",
            "running bdist_egg\n",
            "running egg_info\n",
            "creating skipthoughts.egg-info\n",
            "writing skipthoughts.egg-info/PKG-INFO\n",
            "writing dependency_links to skipthoughts.egg-info/dependency_links.txt\n",
            "writing requirements to skipthoughts.egg-info/requires.txt\n",
            "writing top-level names to skipthoughts.egg-info/top_level.txt\n",
            "writing manifest file 'skipthoughts.egg-info/SOURCES.txt'\n",
            "adding license file 'LICENSE.txt'\n",
            "writing manifest file 'skipthoughts.egg-info/SOURCES.txt'\n",
            "installing library code to build/bdist.linux-x86_64/egg\n",
            "running install_lib\n",
            "running build_py\n",
            "creating build\n",
            "creating build/lib\n",
            "creating build/lib/skipthoughts\n",
            "copying skipthoughts/version.py -> build/lib/skipthoughts\n",
            "copying skipthoughts/dropout.py -> build/lib/skipthoughts\n",
            "copying skipthoughts/skipthoughts.py -> build/lib/skipthoughts\n",
            "copying skipthoughts/gru.py -> build/lib/skipthoughts\n",
            "copying skipthoughts/__init__.py -> build/lib/skipthoughts\n",
            "creating build/bdist.linux-x86_64\n",
            "creating build/bdist.linux-x86_64/egg\n",
            "creating build/bdist.linux-x86_64/egg/skipthoughts\n",
            "copying build/lib/skipthoughts/version.py -> build/bdist.linux-x86_64/egg/skipthoughts\n",
            "copying build/lib/skipthoughts/dropout.py -> build/bdist.linux-x86_64/egg/skipthoughts\n",
            "copying build/lib/skipthoughts/skipthoughts.py -> build/bdist.linux-x86_64/egg/skipthoughts\n",
            "copying build/lib/skipthoughts/gru.py -> build/bdist.linux-x86_64/egg/skipthoughts\n",
            "copying build/lib/skipthoughts/__init__.py -> build/bdist.linux-x86_64/egg/skipthoughts\n",
            "byte-compiling build/bdist.linux-x86_64/egg/skipthoughts/version.py to version.cpython-37.pyc\n",
            "byte-compiling build/bdist.linux-x86_64/egg/skipthoughts/dropout.py to dropout.cpython-37.pyc\n",
            "byte-compiling build/bdist.linux-x86_64/egg/skipthoughts/skipthoughts.py to skipthoughts.cpython-37.pyc\n",
            "byte-compiling build/bdist.linux-x86_64/egg/skipthoughts/gru.py to gru.cpython-37.pyc\n",
            "byte-compiling build/bdist.linux-x86_64/egg/skipthoughts/__init__.py to __init__.cpython-37.pyc\n",
            "creating build/bdist.linux-x86_64/egg/EGG-INFO\n",
            "copying skipthoughts.egg-info/PKG-INFO -> build/bdist.linux-x86_64/egg/EGG-INFO\n",
            "copying skipthoughts.egg-info/SOURCES.txt -> build/bdist.linux-x86_64/egg/EGG-INFO\n",
            "copying skipthoughts.egg-info/dependency_links.txt -> build/bdist.linux-x86_64/egg/EGG-INFO\n",
            "copying skipthoughts.egg-info/requires.txt -> build/bdist.linux-x86_64/egg/EGG-INFO\n",
            "copying skipthoughts.egg-info/top_level.txt -> build/bdist.linux-x86_64/egg/EGG-INFO\n",
            "zip_safe flag not set; analyzing archive contents...\n",
            "creating dist\n",
            "creating 'dist/skipthoughts-0.0.1-py3.7.egg' and adding 'build/bdist.linux-x86_64/egg' to it\n",
            "removing 'build/bdist.linux-x86_64/egg' (and everything under it)\n",
            "Processing skipthoughts-0.0.1-py3.7.egg\n",
            "Copying skipthoughts-0.0.1-py3.7.egg to /usr/local/lib/python3.7/dist-packages\n",
            "Adding skipthoughts 0.0.1 to easy-install.pth file\n",
            "\n",
            "Installed /usr/local/lib/python3.7/dist-packages/skipthoughts-0.0.1-py3.7.egg\n",
            "Processing dependencies for skipthoughts==0.0.1\n",
            "Searching for numpy==1.19.5\n",
            "Best match: numpy 1.19.5\n",
            "Adding numpy 1.19.5 to easy-install.pth file\n",
            "Installing f2py script to /usr/local/bin\n",
            "Installing f2py3 script to /usr/local/bin\n",
            "Installing f2py3.7 script to /usr/local/bin\n",
            "\n",
            "Using /usr/local/lib/python3.7/dist-packages\n",
            "Searching for torch==1.10.0+cu111\n",
            "Best match: torch 1.10.0+cu111\n",
            "Adding torch 1.10.0+cu111 to easy-install.pth file\n",
            "Installing convert-caffe2-to-onnx script to /usr/local/bin\n",
            "Installing convert-onnx-to-caffe2 script to /usr/local/bin\n",
            "Installing torchrun script to /usr/local/bin\n",
            "\n",
            "Using /usr/local/lib/python3.7/dist-packages\n",
            "Searching for typing-extensions==3.10.0.2\n",
            "Best match: typing-extensions 3.10.0.2\n",
            "Adding typing-extensions 3.10.0.2 to easy-install.pth file\n",
            "\n",
            "Using /usr/local/lib/python3.7/dist-packages\n",
            "Finished processing dependencies for skipthoughts==0.0.1\n"
          ]
        }
      ]
    },
    {
      "cell_type": "code",
      "source": [
        "%cd ..\n",
        "%cd .."
      ],
      "metadata": {
        "colab": {
          "base_uri": "https://localhost:8080/"
        },
        "id": "BOZN8GdYZ42r",
        "outputId": "f8cd97f5-b270-41de-9915-af9f27ae4530"
      },
      "execution_count": null,
      "outputs": [
        {
          "output_type": "stream",
          "name": "stdout",
          "text": [
            "/content/skip-thoughts.torch\n",
            "/content\n"
          ]
        }
      ]
    },
    {
      "cell_type": "code",
      "source": [
        "\n",
        "!python train.py\n",
        "\n"
      ],
      "metadata": {
        "colab": {
          "base_uri": "https://localhost:8080/"
        },
        "id": "n-_Vuivh9V1I",
        "outputId": "361284e2-8988-4e22-a2bf-a95e3030fde8"
      },
      "execution_count": null,
      "outputs": [
        {
          "output_type": "stream",
          "name": "stdout",
          "text": [
            "Traceback (most recent call last):\n",
            "  File \"train.py\", line 186, in <module>\n",
            "    train_dataset = VQALoader.VQALoader(images_path, imagesJSON, questionsJSON, answersJSON, encoder_questions, encoder_answers, train=True, ratio_images_to_use=ratio_images_to_use, transform=transform, patch_size = patch_size)\n",
            "NameError: name 'imagesJSON' is not defined\n"
          ]
        }
      ]
    }
  ],
  "metadata": {
    "colab": {
      "collapsed_sections": [],
      "name": "Copie de Bienvenue dans Colaboratory",
      "provenance": [],
      "include_colab_link": true
    },
    "kernelspec": {
      "display_name": "Python 3",
      "name": "python3"
    }
  },
  "nbformat": 4,
  "nbformat_minor": 0
}